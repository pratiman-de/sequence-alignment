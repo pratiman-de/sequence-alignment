{
 "cells": [
  {
   "cell_type": "code",
   "execution_count": 3,
   "metadata": {},
   "outputs": [],
   "source": [
    "from Bio import pairwise2\n",
    "from Bio.pairwise2 import format_alignment"
   ]
  },
  {
   "cell_type": "code",
   "execution_count": null,
   "metadata": {},
   "outputs": [],
   "source": [
    "match_score = 2\n",
    "mismatch_score = -1\n",
    "gap_penalty = -2\n",
    "\n",
    "def align(seq1, seq2):\n",
    "    alignments = pairwise2.align.globalms(seq1, seq2, match_score, mismatch_score, gap_penalty, gap_penalty)\n",
    "    for alignment in alignments:\n",
    "        print(format_alignment(*alignment))"
   ]
  },
  {
   "cell_type": "code",
   "execution_count": 4,
   "metadata": {},
   "outputs": [
    {
     "name": "stdout",
     "output_type": "stream",
     "text": [
      "TCTG-C--\n",
      ".||| |  \n",
      "ACTGACCA\n",
      "  Score=1\n",
      "\n",
      "TCTG--C-\n",
      ".|||  | \n",
      "ACTGACCA\n",
      "  Score=1\n",
      "\n",
      "C\n",
      "|\n",
      "C\n",
      "  Score=2\n",
      "\n",
      "TCTG-C\n",
      "  || |\n",
      "--TGAC\n",
      "  Score=0\n",
      "\n",
      "TCTG-C\n",
      "|  | |\n",
      "T--GAC\n",
      "  Score=0\n",
      "\n",
      "TCTGC\n",
      "| ..|\n",
      "T-GAC\n",
      "  Score=0\n",
      "\n",
      "TCTGC\n",
      "|. .|\n",
      "TG-AC\n",
      "  Score=0\n",
      "\n",
      "TCTGC\n",
      "|.. |\n",
      "TGA-C\n",
      "  Score=0\n",
      "\n"
     ]
    }
   ],
   "source": [
    "seq11 = \"TCTGC\"\n",
    "seq12 = \"ACTGACCA\"\n",
    "seq21 = \"C\"\n",
    "seq22 = \"C\"\n",
    "seq31 = \"TCTGC\"\n",
    "seq32 = \"TGAC\"\n",
    "align(seq11, seq12)\n",
    "align(seq21, seq22)\n",
    "align(seq31, seq32)"
   ]
  },
  {
   "cell_type": "code",
   "execution_count": null,
   "metadata": {},
   "outputs": [],
   "source": [
    "TCTG-C--CTCTG-C                 TCTG--C-CTCTG-C\n",
    ".||| |  |  || |                 .|||  | |  || |\n",
    "ACTGACCAC--TGAC                 ACTGACCAC--TGAC\n",
    "\n",
    "TCTG-C--CTCTG-C                 TCTG--C-CTCTG-C\n",
    ".||| |  ||  | |                 .|||  | ||  | |\n",
    "ACTGACCACT--GAC                 ACTGACCACT--GAC\n",
    "\n",
    "TCTG-C--CTCTGC                  TCTG--C-CTCTGC\n",
    ".||| |  || ..|                  .|||  | || ..|\n",
    "ACTGACCACT-GAC                  ACTGACCACT-GAC\n",
    "\n",
    "TCTG-C--CTCTGC                  TCTG--C-CTCTGC\n",
    ".||| |  ||. .|                  .|||  | ||. .|\n",
    "ACTGACCACTG-AC                  ACTGACCACTG-AC\n",
    "\n",
    "TCTG-C--CTCTGC                  TCTG--C-CTCTGC\n",
    ".||| |  ||.. |                  .|||  | ||.. |\n",
    "ACTGACCACTGA-C                  ACTGACCACTGA-C"
   ]
  }
 ],
 "metadata": {
  "kernelspec": {
   "display_name": "Python 3",
   "language": "python",
   "name": "python3"
  },
  "language_info": {
   "codemirror_mode": {
    "name": "ipython",
    "version": 3
   },
   "file_extension": ".py",
   "mimetype": "text/x-python",
   "name": "python",
   "nbconvert_exporter": "python",
   "pygments_lexer": "ipython3",
   "version": "3.9.13"
  }
 },
 "nbformat": 4,
 "nbformat_minor": 2
}
