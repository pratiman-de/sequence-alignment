{
 "cells": [
  {
   "cell_type": "code",
   "execution_count": 1,
   "metadata": {},
   "outputs": [],
   "source": [
    "def needleman_wunsch(seq1, seq2, match=2, mismatch=-1, gap=-2):\n",
    "    # Initialize the score matrix\n",
    "    rows = len(seq1) + 1\n",
    "    cols = len(seq2) + 1\n",
    "    score_matrix = [[0] * cols for _ in range(rows)]\n",
    "\n",
    "    # Initialize the traceback matrix\n",
    "    traceback_matrix = [[0] * cols for _ in range(rows)]\n",
    "\n",
    "    # Initialize the first row and column of the score matrix\n",
    "    for i in range(1, rows):\n",
    "        score_matrix[i][0] = score_matrix[i-1][0] + gap\n",
    "        traceback_matrix[i][0] = 'up'\n",
    "\n",
    "    for j in range(1, cols):\n",
    "        score_matrix[0][j] = score_matrix[0][j-1] + gap\n",
    "        traceback_matrix[0][j] = 'left'\n",
    "\n",
    "    # Fill the score and traceback matrices\n",
    "    for i in range(1, rows):\n",
    "        for j in range(1, cols):\n",
    "            if seq1[i-1] == seq2[j-1]:\n",
    "                diagonal_score = score_matrix[i-1][j-1] + match\n",
    "            else:\n",
    "                diagonal_score = score_matrix[i-1][j-1] + mismatch\n",
    "\n",
    "            up_score = score_matrix[i-1][j] + gap\n",
    "            left_score = score_matrix[i][j-1] + gap\n",
    "\n",
    "            max_score = max(diagonal_score, up_score, left_score)\n",
    "            score_matrix[i][j] = max_score\n",
    "\n",
    "            if max_score == diagonal_score:\n",
    "                traceback_matrix[i][j] = 'diagonal'\n",
    "            elif max_score == up_score:\n",
    "                traceback_matrix[i][j] = 'up'\n",
    "            else:\n",
    "                traceback_matrix[i][j] = 'left'\n",
    "\n",
    "    # Traceback to find the alignments\n",
    "    alignments = []\n",
    "\n",
    "    def traceback(i, j, alignment1, alignment2):\n",
    "        if i == 0 and j == 0:\n",
    "            alignments.append((alignment1, alignment2))\n",
    "            return\n",
    "        if traceback_matrix[i][j] == 'diagonal':\n",
    "            traceback(i-1, j-1, seq1[i-1] + alignment1, seq2[j-1] + alignment2)\n",
    "        elif traceback_matrix[i][j] == 'up':\n",
    "            traceback(i-1, j, seq1[i-1] + alignment1, '-' + alignment2)\n",
    "        else:\n",
    "            traceback(i, j-1, '-' + alignment1, seq2[j-1] + alignment2)\n",
    "\n",
    "    traceback(rows - 1, cols - 1, '', '')\n",
    "\n",
    "    return score_matrix[-1][-1], alignments\n",
    "\n",
    "def print_alignments_with_max_score(seq1, seq2):\n",
    "    max_score, alignments = needleman_wunsch(seq1, seq2)\n",
    "\n",
    "    print(\"Maximum Score:\", max_score)\n",
    "    print(\"Alignments:\")\n",
    "    for alignment in alignments:\n",
    "        print(alignment[0])\n",
    "        print(alignment[1])\n",
    "        print()"
   ]
  },
  {
   "cell_type": "code",
   "execution_count": 2,
   "metadata": {},
   "outputs": [
    {
     "name": "stdout",
     "output_type": "stream",
     "text": [
      "Maximum Score: 1\n",
      "Alignments:\n",
      "TCTG--C-\n",
      "ACTGACCA\n",
      "\n",
      "Maximum Score: 2\n",
      "Alignments:\n",
      "C\n",
      "C\n",
      "\n",
      "Maximum Score: 0\n",
      "Alignments:\n",
      "TCTGC\n",
      "T-GAC\n",
      "\n"
     ]
    }
   ],
   "source": [
    "seq11 = \"TCTGC\"\n",
    "seq12 = \"ACTGACCA\"\n",
    "seq21 = \"C\"\n",
    "seq22 = \"C\"\n",
    "seq31 = \"TCTGC\"\n",
    "seq32 = \"TGAC\"\n",
    "print_alignments_with_max_score(seq11, seq12)\n",
    "print_alignments_with_max_score(seq21, seq22)\n",
    "print_alignments_with_max_score(seq31, seq32)"
   ]
  },
  {
   "cell_type": "code",
   "execution_count": null,
   "metadata": {},
   "outputs": [],
   "source": [
    "Alignment:\n",
    "\n",
    "TCTG--C-CTCTGC\n",
    "ACTGACCACT-GAC\n",
    "\n",
    "Total score: 1+2+0 = 3"
   ]
  }
 ],
 "metadata": {
  "kernelspec": {
   "display_name": "Python 3",
   "language": "python",
   "name": "python3"
  },
  "language_info": {
   "codemirror_mode": {
    "name": "ipython",
    "version": 3
   },
   "file_extension": ".py",
   "mimetype": "text/x-python",
   "name": "python",
   "nbconvert_exporter": "python",
   "pygments_lexer": "ipython3",
   "version": "3.9.13"
  }
 },
 "nbformat": 4,
 "nbformat_minor": 2
}
