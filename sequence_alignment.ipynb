{
 "cells": [
  {
   "cell_type": "markdown",
   "id": "ef2b8358",
   "metadata": {},
   "source": [
    "Optimal alignment without the specific condition."
   ]
  },
  {
   "cell_type": "code",
   "execution_count": 2,
   "id": "4a805d0e",
   "metadata": {},
   "outputs": [
    {
     "name": "stdout",
     "output_type": "stream",
     "text": [
      "TCTG-CCTCTG-C\n",
      ".||| ||.||| |\n",
      "ACTGACCACTGAC\n",
      "  Score=12\n",
      "\n"
     ]
    }
   ],
   "source": [
    "from Bio import pairwise2\n",
    "from Bio.pairwise2 import format_alignment\n",
    "\n",
    "def align_sequences(seq1, seq2):\n",
    "    alignments = pairwise2.align.globalms(seq1, seq2, 2, -1, -2, 0, one_alignment_only=False, gap_char='-')\n",
    "    return alignments\n",
    "\n",
    "def print_alignments(alignments):\n",
    "    for a in alignments:\n",
    "        print(format_alignment(*a))\n",
    "\n",
    "seq1 = \"TCTGCCTCTGC\"\n",
    "seq2 = \"ACTGACCACTGAC\"\n",
    "\n",
    "alignments = align_sequences(seq1, seq2)\n",
    "print_alignments(alignments)\n"
   ]
  },
  {
   "cell_type": "markdown",
   "id": "30b37ac5",
   "metadata": {},
   "source": [
    "Optimal alignment with the specific condition of C-C matching."
   ]
  },
  {
   "cell_type": "code",
   "execution_count": 5,
   "id": "fec1885a",
   "metadata": {},
   "outputs": [
    {
     "name": "stdout",
     "output_type": "stream",
     "text": [
      "T-CTG--C-\n",
      "  |||  | \n",
      "-ACTGACCA\n",
      "  Score=4\n",
      "\n",
      "TCTG--C-\n",
      ".|||  | \n",
      "ACTGACCA\n",
      "  Score=4\n",
      "\n",
      "T-CTG-C--\n",
      "  ||| |  \n",
      "-ACTGACCA\n",
      "  Score=4\n",
      "\n",
      "TCTG-C--\n",
      ".||| |  \n",
      "ACTGACCA\n",
      "  Score=4\n",
      "\n",
      "C\n",
      "|\n",
      "C\n",
      "  Score=2\n",
      "\n",
      "TCTG-C\n",
      "  || |\n",
      "--TGAC\n",
      "  Score=4\n",
      "\n",
      "TCTG-C\n",
      "|  | |\n",
      "T--GAC\n",
      "  Score=4\n",
      "\n"
     ]
    }
   ],
   "source": [
    "from Bio import pairwise2\n",
    "from Bio.pairwise2 import format_alignment\n",
    "\n",
    "def align_sequences(seq1, seq2):\n",
    "    alignments = pairwise2.align.globalms(seq1, seq2, 2, -2, -1, 0, one_alignment_only=False, gap_char='-')\n",
    "    return alignments\n",
    "\n",
    "def print_alignments(alignments):\n",
    "    for a in alignments:\n",
    "        print(format_alignment(*a))\n",
    "\n",
    "seq11 = \"TCTGC\"\n",
    "seq12 = \"ACTGACCA\"\n",
    "seq21 = \"C\"\n",
    "seq22 = \"C\"\n",
    "seq31 = \"TCTGC\"\n",
    "seq32 = \"TGAC\"\n",
    "\n",
    "alignments1 = align_sequences(seq11, seq12)\n",
    "alignments2 = align_sequences(seq21, seq22)\n",
    "alignments3 = align_sequences(seq31, seq32)\n",
    "\n",
    "print_alignments(alignments1)\n",
    "print_alignments(alignments2)\n",
    "print_alignments(alignments3)"
   ]
  },
  {
   "cell_type": "code",
   "execution_count": null,
   "id": "80e5e93a",
   "metadata": {
    "vscode": {
     "languageId": "plaintext"
    }
   },
   "outputs": [],
   "source": [
    "T-CTG--C-CTCTG-C\n",
    "  |||  | |  || |\n",
    "-ACTGACCAC--TGAC\n",
    "  \n",
    "TCTG--C-CTCTG-C \n",
    ".|||  | |  || | \n",
    "ACTGACCAC--TGAC \n",
    "  \n",
    "T-CTG-C--CTCTG-C\n",
    "  ||| |  |  || |\n",
    "-ACTGACCAC--TGAC\n",
    "  \n",
    "TCTG-C--CTCTG-C \n",
    ".||| |  |  || | \n",
    "ACTGACCAC--TGAC \n",
    "\n",
    "T-CTG--C-CTCTG-C\n",
    "  |||  | ||  | |\n",
    "-ACTGACCACT--GAC\n",
    "\n",
    "TCTG--C-CTCTG-C\n",
    ".|||  | ||  | |\n",
    "ACTGACCACT--GAC\n",
    "\n",
    "T-CTG-C--CTCTG-C\n",
    "  ||| |  ||  | |\n",
    "-ACTGACCACT--GAC\n",
    "\n",
    "TCTG-C--CTCTG-C\n",
    ".||| |  ||  | |\n",
    "ACTGACCACT--GAC\n",
    "  "
   ]
  }
 ],
 "metadata": {
  "kernelspec": {
   "display_name": "Python 3 (ipykernel)",
   "language": "python",
   "name": "python3"
  },
  "language_info": {
   "codemirror_mode": {
    "name": "ipython",
    "version": 3
   },
   "file_extension": ".py",
   "mimetype": "text/x-python",
   "name": "python",
   "nbconvert_exporter": "python",
   "pygments_lexer": "ipython3",
   "version": "3.9.13"
  }
 },
 "nbformat": 4,
 "nbformat_minor": 5
}
